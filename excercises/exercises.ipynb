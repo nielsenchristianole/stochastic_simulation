{
 "cells": [
  {
   "cell_type": "code",
   "execution_count": null,
   "metadata": {},
   "outputs": [],
   "source": [
    "import math\n",
    "\n",
    "import tqdm\n",
    "import numpy as np\n",
    "import scipy.stats as stats\n",
    "import matplotlib.pyplot as plt\n"
   ]
  },
  {
   "cell_type": "code",
   "execution_count": null,
   "metadata": {},
   "outputs": [],
   "source": [
    "# linear congruential generator\n",
    "def lcg(x_0: int, a: int, c: int, M: int):\n",
    "    \"\"\"\n",
    "    x_0: seed\n",
    "    a: multiplier\n",
    "    c: increment\n",
    "    M: modulus and number of possible samples\n",
    "    \"\"\"\n",
    "\n",
    "    if math.gcd(a, M) != 1:\n",
    "        raise ValueError('a and M must be coprime')\n",
    "    assert np.all(isinstance(i, int) for i in [x_0, a, c, M]), 'All inputs must be integers'\n",
    "    \n",
    "    x = x_0\n",
    "    U = np.empty(M)\n",
    "    for i in range(M):\n",
    "        x = (a * x + c) % M\n",
    "        U[i] = x / M\n",
    "    return U\n"
   ]
  },
  {
   "cell_type": "code",
   "execution_count": null,
   "metadata": {},
   "outputs": [],
   "source": [
    "k = 127\n",
    "n = 10_000\n",
    "a = 1664521\n",
    "c = 1013904223\n",
    "u = lcg(0, a=a, c=c, M=n)\n",
    "\n",
    "\n",
    "fig, ax = plt.subplots(1, 3, figsize=(15, 5))\n",
    "\n",
    "ax[0].hist(u, bins=k, density=True)\n",
    "ax[1].plot(np.sort(u), np.linspace(0, 1, len(u), endpoint=False))\n",
    "ax[1].plot((0, 1), (0, 1), 'k--')\n",
    "ax[1].ecdf(u)\n",
    "ax[2].plot(u, '.', markersize=1)\n",
    "\n",
    "plt.show()\n",
    "\n",
    "\n",
    "# chi-squared test\n",
    "expected = np.full(k, n / k)\n",
    "observed, _ = np.histogram(u, bins=k)\n",
    "chi_squared = np.sum((observed - expected) ** 2 / expected)\n",
    "print(f'Chi-squared: {chi_squared:.2f}')\n",
    "\n",
    "\n",
    "# Kolmogorov-Smirnov test\n",
    "u_sorted = np.sort(u)\n",
    "D_plus = np.max(np.arange(1, n + 1) / n - u_sorted)\n",
    "D_minus = np.max(u_sorted - np.arange(0, n) / n)\n",
    "D = max(D_plus, D_minus)\n",
    "print(f'Kolmogorov-Smirnov: {D:.2f}')\n",
    "\n",
    "\n",
    "# Wald-Wolfowitz runs test\n",
    "runs = 1\n",
    "for i in range(1, n):\n",
    "    if u[i] != u[i - 1]:\n",
    "        runs += 1\n",
    "\n",
    "expected_runs = 1 + 2 * np.sum(u) * (1 - np.sum(u))\n",
    "std_dev = np.sqrt(2 * np.sum(u) * (1 - np.sum(u)) * (2 * np.sum(u) * (1 - np.sum(u)) - n) / n)\n",
    "z = (runs - expected_runs) / std_dev\n",
    "print(f'Wald-Wolfowitz runs: {runs}, z-score: {z:.2f}')\n"
   ]
  },
  {
   "cell_type": "code",
   "execution_count": null,
   "metadata": {},
   "outputs": [],
   "source": [
    "stats.chi2(df=k - 1).ppf(0.5)"
   ]
  }
 ],
 "metadata": {
  "kernelspec": {
   "display_name": "cv",
   "language": "python",
   "name": "python3"
  },
  "language_info": {
   "codemirror_mode": {
    "name": "ipython",
    "version": 3
   },
   "file_extension": ".py",
   "mimetype": "text/x-python",
   "name": "python",
   "nbconvert_exporter": "python",
   "pygments_lexer": "ipython3",
   "version": "3.11.9"
  }
 },
 "nbformat": 4,
 "nbformat_minor": 2
}
