{
 "cells": [
  {
   "cell_type": "code",
   "execution_count": null,
   "metadata": {},
   "outputs": [],
   "source": [
    "import numpy as np\n",
    "import pandas as pd\n",
    "import scipy.stats as stats\n",
    "import scipy.linalg as linalg\n",
    "import tqdm.notebook as tqdm\n",
    "import matplotlib.pyplot as plt"
   ]
  },
  {
   "cell_type": "markdown",
   "metadata": {},
   "source": [
    "# Part 2"
   ]
  },
  {
   "cell_type": "markdown",
   "metadata": {},
   "source": [
    "## Task 7"
   ]
  },
  {
   "cell_type": "code",
   "execution_count": null,
   "metadata": {},
   "outputs": [],
   "source": [
    "Q = np.array([\n",
    "    [-0.0085,  0.005,  0.0025,  0    , 0.001],\n",
    "    [ 0     , -0.014,  0.005 ,  0.004, 0.005],\n",
    "    [ 0     ,  0    , -0.008 ,  0.003, 0.005],\n",
    "    [ 0     ,  0    ,  0     , -0.009, 0.009],\n",
    "    [ 0     ,  0    ,  0     ,  0    , 0    ]])\n",
    "\n",
    "state_dict = {\n",
    "    'no_tumor': 0,\n",
    "    'local_recurrence': 1,\n",
    "    'distant_metastatis': 2,\n",
    "    'local_and_distant': 3,\n",
    "    'death': 4}\n",
    "\n",
    "num_states = len(state_dict)\n"
   ]
  },
  {
   "cell_type": "code",
   "execution_count": null,
   "metadata": {},
   "outputs": [],
   "source": [
    "# when the transition happens\n",
    "out_rate = -np.diag(Q)\n",
    "\n",
    "# what new state will be\n",
    "transition_prob = Q.copy()\n",
    "non_arbsorbing_mask = out_rate > 0\n",
    "transition_prob[non_arbsorbing_mask] /= out_rate[non_arbsorbing_mask, None]\n",
    "np.fill_diagonal(transition_prob, ~non_arbsorbing_mask)\n"
   ]
  },
  {
   "cell_type": "code",
   "execution_count": null,
   "metadata": {},
   "outputs": [],
   "source": [
    "num_trails = 1000\n",
    "\n",
    "start_states = np.full(num_trails, state_dict['no_tumor'])\n",
    "lifetimes = np.zeros(num_trails)\n",
    "\n",
    "is_alive_mask = np.ones(num_trails, dtype=bool)\n",
    "current_states = start_states.copy()\n",
    "\n",
    "has_had_cancer_reapear_within_30_5_months = np.zeros(num_trails, dtype=bool)\n",
    "\n",
    "while np.any(is_alive_mask):\n",
    "    \n",
    "    lifetimes[is_alive_mask] += np.random.exponential(1 / out_rate[current_states[is_alive_mask]])\n",
    "    new_states = np.array([np.random.choice(num_states, p=transition_prob[state]) for state in current_states])\n",
    "\n",
    "    has_had_cancer_reapear_within_30_5_months |= ((new_states == state_dict['distant_metastatis']) | \\\n",
    "                                                  (new_states == state_dict['local_and_distant'])) & \\\n",
    "                                                 (lifetimes <= 30.5)\n",
    "\n",
    "    current_states = new_states\n",
    "    is_alive_mask = current_states != state_dict['death']\n"
   ]
  },
  {
   "cell_type": "code",
   "execution_count": null,
   "metadata": {},
   "outputs": [],
   "source": [
    "print(f\"Probability of having cancer reappear within 30.5 months: {has_had_cancer_reapear_within_30_5_months.mean()}\")\n"
   ]
  },
  {
   "cell_type": "code",
   "execution_count": null,
   "metadata": {},
   "outputs": [],
   "source": [
    "plt.plot(\n",
    "    np.sort(lifetimes),\n",
    "    np.linspace(0, 1, num_trails, endpoint=False)[::-1])\n",
    "plt.title('Lifetime distribution')\n",
    "plt.xlabel('Months')\n",
    "plt.ylabel('Survival probability')\n",
    "plt.show()\n",
    "\n",
    "\n",
    "# report the mean lifetime distribution and 95% confidence interval\n",
    "mean_lifetime = np.mean(lifetimes)\n",
    "\n",
    "std_lifetime = np.std(lifetimes)\n",
    "lower, upper = stats.t.interval(0.95, num_trails - 1, loc=mean_lifetime, scale=stats.sem(lifetimes))\n",
    "print(f'Mean lifetime: {mean_lifetime:.2f} months')\n",
    "\n",
    "print(f'Standard deviation: {std_lifetime:.2f} months')\n",
    "\n",
    "# confidence interval mean\n",
    "print(f'95% confidence interval: ({lower:.2f}, {upper:.2f}) months')\n",
    "\n",
    "# confidence interval standard deviation\n",
    "lower, upper = stats.t.interval(0.95, num_trails - 1, loc=std_lifetime, scale=stats.sem(lifetimes))\n",
    "print(f'95% confidence interval for standard deviation: ({lower:.2f}, {upper:.2f}) months')\n",
    "\n"
   ]
  },
  {
   "cell_type": "markdown",
   "metadata": {},
   "source": [
    "## Task 8"
   ]
  },
  {
   "cell_type": "code",
   "execution_count": null,
   "metadata": {},
   "outputs": [],
   "source": [
    "p_0 = np.zeros((num_states-1, 1))\n",
    "p_0[state_dict['no_tumor']] = 1\n",
    "Q_s = Q[:-1, :-1]\n",
    "\n",
    "ts = np.linspace(0, lifetimes.max(), 1000)\n",
    "F_t = lambda t: 1 - (p_0.T @ linalg.expm(Q_s * t)).sum()\n",
    "\n",
    "F_true = np.array([F_t(t) for t in ts])\n",
    "\n",
    "plt.plot(ts, F_true, label='Theoretical')\n",
    "plt.plot(np.sort(lifetimes), np.linspace(0, 1, num_trails, endpoint=False), label='Empirical')\n",
    "plt.xlabel('Months')\n",
    "plt.ylabel('Death probability')\n",
    "plt.title('Theoretical vs empirical lifetime distribution')\n",
    "plt.legend()\n",
    "plt.show()"
   ]
  },
  {
   "cell_type": "code",
   "execution_count": null,
   "metadata": {},
   "outputs": [],
   "source": [
    "Q2 = np.array([\n",
    "    [0, 0.0025, 0.00125, 0    , 0.001],\n",
    "    [0, 0     , 0      , 0.002, 0.005],\n",
    "    [0, 0     , 0      , 0.003, 0.005],\n",
    "    [0, 0     , 0      , 0    , 0.009],\n",
    "    [0, 0     , 0      , 0    , 0    ]])\n",
    "\n",
    "idxs = np.arange(len(Q2), dtype=int)\n",
    "Q2[idxs, idxs] = -Q2.sum(axis=1)\n",
    "\n",
    "Q1 = Q.copy()\n",
    "\n",
    "def simulate_lifetimes(Q, num_trials):\n",
    "    out_rate = -np.diag(Q)\n",
    "    transition_prob = Q.copy()\n",
    "    non_absorbing_mask = out_rate > 0\n",
    "    transition_prob[non_absorbing_mask] /= out_rate[non_absorbing_mask, None]\n",
    "    np.fill_diagonal(transition_prob, ~non_absorbing_mask)\n",
    "\n",
    "    start_states = np.full(num_trials, state_dict['no_tumor'])\n",
    "    lifetimes = np.zeros(num_trials)\n",
    "    is_alive_mask = np.ones(num_trials, dtype=bool)\n",
    "    current_states = start_states.copy()\n",
    "\n",
    "    while np.any(is_alive_mask):\n",
    "        lifetimes[is_alive_mask] += np.random.exponential(1 / out_rate[current_states[is_alive_mask]])\n",
    "        new_states = np.array([np.random.choice(num_states, p=transition_prob[state]) for state in current_states])\n",
    "        current_states = new_states\n",
    "        is_alive_mask = current_states != state_dict['death']\n",
    "\n",
    "    return lifetimes, current_states\n",
    "\n",
    "# Calculate the Kaplan-Meier estimate\n",
    "def kaplan_meier_estimate(lifetimes, events):\n",
    "    sorted_indices = np.argsort(lifetimes)\n",
    "    lifetimes = lifetimes[sorted_indices]\n",
    "    events = events[sorted_indices]\n",
    "\n",
    "    unique_times, death_counts = np.unique(lifetimes, return_counts=True)\n",
    "    at_risk_counts = np.array([np.sum(lifetimes >= time) for time in unique_times])\n",
    "    survival_prob = np.cumprod(1 - death_counts / at_risk_counts)\n",
    "\n",
    "    return np.concatenate(([0], unique_times)), np.concatenate(([1], survival_prob))\n",
    "\n",
    "# Simulate lifetimes for both Q1 and Q2\n",
    "num_trials = 1000\n",
    "lifetimes1, current_states1 = simulate_lifetimes(Q1, num_trials)\n",
    "lifetimes2, current_states2 = simulate_lifetimes(Q2, num_trials)\n",
    "\n",
    "# Calculate the Kaplan-Meier estimates\n",
    "events1 = (current_states1 == state_dict['death']).astype(int)\n",
    "events2 = (current_states2 == state_dict['death']).astype(int)\n",
    "times1, survival_prob1 = kaplan_meier_estimate(lifetimes1, events1)\n",
    "times2, survival_prob2 = kaplan_meier_estimate(lifetimes2, events2)\n",
    "\n",
    "# Plot the Kaplan-Meier survival estimates\n",
    "plt.figure(figsize=(10, 6))\n",
    "plt.step(times1, survival_prob1, where='post', label='Kaplan-Meier Estimate (Q1)')\n",
    "plt.step(times2, survival_prob2, where='post', label='Kaplan-Meier Estimate (Q2)', linestyle='--')\n",
    "plt.xlabel('Time')\n",
    "plt.ylabel('Survival Probability')\n",
    "plt.title('Kaplan-Meier Survival Curves')\n",
    "plt.grid(True)\n",
    "plt.legend()\n",
    "plt.show()\n"
   ]
  },
  {
   "cell_type": "markdown",
   "metadata": {},
   "source": [
    "# Part 3"
   ]
  },
  {
   "cell_type": "markdown",
   "metadata": {},
   "source": [
    "## Task 12"
   ]
  },
  {
   "cell_type": "code",
   "execution_count": null,
   "metadata": {},
   "outputs": [],
   "source": [
    "def simulate_lifetimes(\n",
    "    Q: np.ndarray,\n",
    "    num_trails: int,\n",
    "    *,\n",
    "    months_between_doctor_visits: int=48,\n",
    "    state_dict: dict[str, int]=state_dict\n",
    ") -> np.ndarray:\n",
    "    num_states = len(state_dict)\n",
    "\n",
    "    # when the transition happens\n",
    "    out_rate = -np.diag(Q)\n",
    "\n",
    "    # what new state will be\n",
    "    transition_prob = Q.copy()\n",
    "    non_arbsorbing_mask = out_rate > 0\n",
    "    transition_prob[non_arbsorbing_mask] /= out_rate[non_arbsorbing_mask, None]\n",
    "    np.fill_diagonal(transition_prob, ~non_arbsorbing_mask)\n",
    "\n",
    "    # init\n",
    "    state_time_series = np.zeros((1, num_trails), dtype=int)\n",
    "\n",
    "    start_states = np.full(num_trails, state_dict['no_tumor'])\n",
    "    lifetimes = np.zeros(num_trails)\n",
    "\n",
    "    is_alive_mask = np.ones(num_trails, dtype=bool)\n",
    "    current_states = start_states.copy()\n",
    "\n",
    "    # simulate\n",
    "    while np.any(is_alive_mask):\n",
    "\n",
    "        lifetimes[is_alive_mask] += np.random.exponential(1 / out_rate[current_states[is_alive_mask]])\n",
    "        new_states = np.array([np.random.choice(num_states, p=transition_prob[state]) for state in current_states[is_alive_mask]])\n",
    "\n",
    "        visit_idx = np.ceil(lifetimes[is_alive_mask] / months_between_doctor_visits).astype(int)\n",
    "        while visit_idx.max() >= state_time_series.shape[0]:\n",
    "            state_time_series = np.concatenate([state_time_series, np.zeros_like(state_time_series)], axis=0)\n",
    "        \n",
    "        state_time_series[visit_idx, is_alive_mask] = new_states\n",
    "\n",
    "        current_states[is_alive_mask] = new_states\n",
    "        is_alive_mask = current_states != state_dict['death']\n",
    "\n",
    "    # fill in the gaps\n",
    "    state_time_series = pd.DataFrame(state_time_series).cummax().to_numpy()\n",
    "    return state_time_series\n",
    "\n",
    "\n",
    "def estimate_Q_from_obervations(\n",
    "    state_time_series: np.ndarray,\n",
    "    *,\n",
    "    months_between_doctor_visits: int=48\n",
    ") -> np.ndarray:\n",
    "    num_states = state_time_series.max() + 1\n",
    "\n",
    "    Q = np.zeros((num_states, num_states))\n",
    "    for i in range(num_states):\n",
    "        for j in range(num_states):\n",
    "            if i == j: continue\n",
    "\n",
    "            transitions = np.sum((state_time_series[:-1] == i) & (state_time_series[1:] == j))\n",
    "            total_time = np.sum((state_time_series[:-1] == i)) * months_between_doctor_visits\n",
    "            Q[i, j] = transitions / total_time if total_time > 0 else 0\n",
    "\n",
    "    np.fill_diagonal(Q, -Q.sum(axis=1))\n",
    "    return Q"
   ]
  },
  {
   "cell_type": "code",
   "execution_count": null,
   "metadata": {},
   "outputs": [],
   "source": [
    "Q = np.array([\n",
    "    [-0.0085,  0.005,  0.0025,  0    , 0.001],\n",
    "    [ 0     , -0.014,  0.005 ,  0.004, 0.005],\n",
    "    [ 0     ,  0    , -0.008 ,  0.003, 0.005],\n",
    "    [ 0     ,  0    ,  0     , -0.009, 0.009],\n",
    "    [ 0     ,  0    ,  0     ,  0    , 0    ]])\n",
    "\n",
    "state_dict = {\n",
    "    'no_tumor': 0,\n",
    "    'local_recurrence': 1,\n",
    "    'distant_metastatis': 2,\n",
    "    'local_and_distant': 3,\n",
    "    'death': 4}\n"
   ]
  },
  {
   "cell_type": "code",
   "execution_count": null,
   "metadata": {},
   "outputs": [],
   "source": [
    "observed_lifetimes = simulate_lifetimes(Q, 1000)\n",
    "\n",
    "plt.plot(observed_lifetimes)\n",
    "plt.xlabel('Doctor visit')\n",
    "plt.ylabel('State')\n",
    "plt.show()\n"
   ]
  },
  {
   "cell_type": "code",
   "execution_count": null,
   "metadata": {},
   "outputs": [],
   "source": [
    "Q_est = estimate_Q_from_obervations(observed_lifetimes)\n",
    "\n",
    "while True:\n",
    "    simulated_lifetimes = simulate_lifetimes(Q_est, 1000)\n",
    "    Q_est_new = estimate_Q_from_obervations(simulated_lifetimes)\n",
    "    max_diff = np.abs(Q_est - Q_est_new).max()\n",
    "    Q_est = Q_est_new\n",
    "    if max_diff < 1e-3: # inf norm\n",
    "        break\n",
    "\n",
    "print(np.array2string(Q_est, precision=4, suppress_small=True))\n",
    "print(np.array2string(Q, precision=4, suppress_small=True))"
   ]
  }
 ],
 "metadata": {
  "kernelspec": {
   "display_name": "sim",
   "language": "python",
   "name": "python3"
  },
  "language_info": {
   "codemirror_mode": {
    "name": "ipython",
    "version": 3
   },
   "file_extension": ".py",
   "mimetype": "text/x-python",
   "name": "python",
   "nbconvert_exporter": "python",
   "pygments_lexer": "ipython3",
   "version": "3.11.9"
  }
 },
 "nbformat": 4,
 "nbformat_minor": 2
}
